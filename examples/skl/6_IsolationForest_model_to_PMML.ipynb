{
 "cells": [
  {
   "cell_type": "markdown",
   "metadata": {},
   "source": [
    "# anomaly → PMML (using Nyoka) \n",
    "\n",
    "### Exporter: Anomaly Detection models (Isolation Forests) \n",
    "### Data Set used: iris\n",
    "\n",
    "### **STEPS**: \n",
    "- Build the model using sklearn Isolation Forests\n",
    "- Build PMML (Data Dictionary, Mining schema, Ouput, PMML) using Nyoka classes"
   ]
  },
  {
   "cell_type": "markdown",
   "metadata": {},
   "source": [
    "# Pre-processing, Model building (using pipeline) for iris data set"
   ]
  },
  {
   "cell_type": "code",
   "execution_count": 1,
   "metadata": {
    "ExecuteTime": {
     "end_time": "2018-07-10T06:27:59.647880Z",
     "start_time": "2018-07-10T06:27:58.294880Z"
    }
   },
   "outputs": [
    {
     "name": "stdout",
     "output_type": "stream",
     "text": [
      "\n",
      " Anomaly detection model is built successfully.\n"
     ]
    }
   ],
   "source": [
    "from sklearn import datasets\n",
    "from sklearn.pipeline import Pipeline\n",
    "from sklearn.preprocessing import StandardScaler\n",
    "from sklearn.impute import SimpleImputer\n",
    "from sklearn.ensemble import IsolationForest\n",
    "\n",
    "irisdata = datasets.load_iris()\n",
    "pipe = Pipeline([('standard_scaler',StandardScaler()), ('Imputer',SimpleImputer()), ('model',IsolationForest())])\n",
    "pipe.fit(irisdata.data)\n",
    "\n",
    "print(\"\\n\",\"Anomaly detection model is built successfully.\")"
   ]
  },
  {
   "cell_type": "markdown",
   "metadata": {},
   "source": [
    "# Export the Pipeline object into PMML using the Nyoka package"
   ]
  },
  {
   "cell_type": "code",
   "execution_count": 2,
   "metadata": {
    "ExecuteTime": {
     "end_time": "2018-07-10T06:28:05.359880Z",
     "start_time": "2018-07-10T06:28:04.605880Z"
    }
   },
   "outputs": [],
   "source": [
    "from nyoka import skl_to_pmml\n",
    "skl_to_pmml(pipeline=pipe, col_names=irisdata.feature_names, pmml_f_name=\"IsolationForest_model.pmml\")"
   ]
  }
 ],
 "metadata": {
  "kernelspec": {
   "display_name": "Python 3 (ipykernel)",
   "language": "python",
   "name": "python3"
  },
  "language_info": {
   "codemirror_mode": {
    "name": "ipython",
    "version": 3
   },
   "file_extension": ".py",
   "mimetype": "text/x-python",
   "name": "python",
   "nbconvert_exporter": "python",
   "pygments_lexer": "ipython3",
   "version": "3.8.17"
  },
  "latex_envs": {
   "LaTeX_envs_menu_present": true,
   "autoclose": false,
   "autocomplete": true,
   "bibliofile": "biblio.bib",
   "cite_by": "apalike",
   "current_citInitial": 1,
   "eqLabelWithNumbers": true,
   "eqNumInitial": 1,
   "hotkeys": {
    "equation": "Ctrl-E",
    "itemize": "Ctrl-I"
   },
   "labels_anchors": false,
   "latex_user_defs": false,
   "report_style_numbering": false,
   "user_envs_cfg": false
  }
 },
 "nbformat": 4,
 "nbformat_minor": 2
}
