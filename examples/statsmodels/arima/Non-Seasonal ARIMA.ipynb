{
 "cells": [
  {
   "cell_type": "markdown",
   "metadata": {},
   "source": [
    "## Export Non-Seasonal ARIMA model into PMML"
   ]
  },
  {
   "cell_type": "code",
   "execution_count": 1,
   "metadata": {},
   "outputs": [],
   "source": [
    "import pandas as pd\n",
    "import numpy as np\n",
    "from statsmodels.tsa.api import ARIMA\n",
    "from nyoka import StatsmodelsToPmml\n",
    "import warnings\n",
    "warnings.filterwarnings('ignore')"
   ]
  },
  {
   "cell_type": "markdown",
   "metadata": {},
   "source": [
    "## Train the model"
   ]
  },
  {
   "cell_type": "code",
   "execution_count": 2,
   "metadata": {},
   "outputs": [],
   "source": [
    "def parser(x):\n",
    "    return pd.to_datetime(x,format='%Y-%m')\n",
    "\n",
    "# Load the data\n",
    "sales_data = pd.read_csv('sales-cars.csv', index_col=0, parse_dates = [0], date_parser = parser)"
   ]
  },
  {
   "cell_type": "code",
   "execution_count": 3,
   "metadata": {},
   "outputs": [],
   "source": [
    "data = [266,146,183,119,180,169,232,225,193,123,337,186,194,150,210,273,191,287,\n",
    "                226,304,290,422,265,342,340,440,316,439,401,390,490,408,490,420,520,480]\n",
    "index = pd.date_range(start='2016-01-01', end='2018-12-01', freq='MS')\n",
    "ts_data = pd.Series(data, index)\n",
    "ts_data.index.name = 'date_index'\n",
    "ts_data.name = 'cars_sold'"
   ]
  },
  {
   "cell_type": "code",
   "execution_count": 4,
   "metadata": {},
   "outputs": [],
   "source": [
    "model = ARIMA(sales_data, order = (9, 2, 0))\n",
    "result = model.fit()"
   ]
  },
  {
   "cell_type": "markdown",
   "metadata": {},
   "source": [
    "### Export to PMML"
   ]
  },
  {
   "cell_type": "code",
   "execution_count": null,
   "metadata": {},
   "outputs": [],
   "source": [
    "pmml_f_name = 'non_seasonal_car_sales.pmml'\n",
    "StatsmodelsToPmml(results_obj=result,pmml_file_name=pmml_f_name,conf_int=[95])"
   ]
  },
  {
   "cell_type": "code",
   "execution_count": null,
   "metadata": {},
   "outputs": [],
   "source": []
  }
 ],
 "metadata": {
  "kernelspec": {
   "display_name": "Python 3 (ipykernel)",
   "language": "python",
   "name": "python3"
  },
  "language_info": {
   "codemirror_mode": {
    "name": "ipython",
    "version": 3
   },
   "file_extension": ".py",
   "mimetype": "text/x-python",
   "name": "python",
   "nbconvert_exporter": "python",
   "pygments_lexer": "ipython3",
   "version": "3.8.17"
  }
 },
 "nbformat": 4,
 "nbformat_minor": 2
}
